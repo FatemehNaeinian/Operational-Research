{
  "nbformat": 4,
  "nbformat_minor": 2,
  "metadata": {
    "colab": {
      "provenance": []
    },
    "kernelspec": {
      "name": "python3",
      "display_name": "Python 3.9.7 64-bit"
    },
    "language_info": {
      "name": "python",
      "version": "3.9.7",
      "mimetype": "text/x-python",
      "codemirror_mode": {
        "name": "ipython",
        "version": 3
      },
      "pygments_lexer": "ipython3",
      "nbconvert_exporter": "python",
      "file_extension": ".py"
    },
    "interpreter": {
      "hash": "ac59ebe37160ed0dfa835113d9b8498d9f09ceb179beaac4002f036b9467c963"
    }
  },
  "cells": [
    {
      "cell_type": "code",
      "execution_count": 1,
      "source": [
        "!pip install pyomo\r\n",
        "!apt-get install -y -qq glpk-utils\r\n",
        "!wget -N -q \"https://ampl.com/dl/open/ipopt/ipopt-win64.zip\"\r\n",
        "!unzip -o -q ipopt-win64"
      ],
      "outputs": [
        {
          "output_type": "stream",
          "name": "stdout",
          "text": [
            "Defaulting to user installation because normal site-packages is not writeable\n",
            "Requirement already satisfied: pyomo in c:\\users\\padidar\\appdata\\roaming\\python\\python39\\site-packages (6.4.2)\n",
            "Requirement already satisfied: ply in c:\\users\\padidar\\appdata\\roaming\\python\\python39\\site-packages (from pyomo) (3.11)\n"
          ]
        },
        {
          "output_type": "stream",
          "name": "stderr",
          "text": [
            "'apt-get' is not recognized as an internal or external command,\n",
            "operable program or batch file.\n",
            "'wget' is not recognized as an internal or external command,\n",
            "operable program or batch file.\n",
            "'unzip' is not recognized as an internal or external command,\n",
            "operable program or batch file.\n"
          ]
        }
      ],
      "metadata": {
        "colab": {
          "base_uri": "https://localhost:8080/"
        },
        "id": "K4KUYF5eLVZ1",
        "outputId": "c4491e06-e00d-43c9-d2c5-1e293f076b48"
      }
    },
    {
      "cell_type": "code",
      "execution_count": 2,
      "source": [
        "!unzip Ipopt-3.5.4-win64-icl9.0.zip"
      ],
      "outputs": [
        {
          "output_type": "stream",
          "name": "stderr",
          "text": [
            "'unzip' is not recognized as an internal or external command,\n",
            "operable program or batch file.\n"
          ]
        }
      ],
      "metadata": {
        "colab": {
          "base_uri": "https://localhost:8080/"
        },
        "id": "hzPevsrL86vl",
        "outputId": "5b98f1d8-3884-4529-b425-80f195d9e96f"
      }
    },
    {
      "cell_type": "code",
      "execution_count": 3,
      "source": [
        "import pyomo.environ as pyo\r\n",
        "from pyomo.environ import *\r\n",
        "from pyomo.opt import SolverFactory\r\n",
        "import sys\r\n",
        "import numpy as np\r\n",
        "\r\n",
        "solverpath_folder = \"D:\\\\Ipopt\\\\bin\"\r\n",
        "solverpath_exe = \"D:\\\\Ipopt\\\\bin\\\\ipopt.exe\"\r\n",
        "\r\n",
        "sys.path.append(solverpath_folder)\r\n",
        "\r\n",
        "model = pyo.ConcreteModel()\r\n",
        "\r\n",
        "model.x1=pyo.Var(within=pyo.Integers, bounds=(0,np.inf))\r\n",
        "model.x2=pyo.Var(within=pyo.Integers, bounds=(0,np.inf))\r\n",
        "model.x3=pyo.Var(within=pyo.Integers, bounds=(0,np.inf))\r\n",
        "model.x4=pyo.Var(within=pyo.Integers, bounds=(0,np.inf))\r\n",
        "\r\n",
        "x1=model.x1\r\n",
        "x2=model.x2\r\n",
        "x3=model.x3\r\n",
        "x4=model.x4\r\n",
        "\r\n",
        "\r\n",
        "model.c1 = pyo.Constraint(expr= x1+2*x2+x3+4*x4<=10 )\r\n",
        "model.c2 = pyo.Constraint(expr= x1>=2 )\r\n",
        "model.c3 = pyo.Constraint(expr= x2>=3 )\r\n",
        "\r\n",
        "model.obj = pyo.Objective(expr= 2*x1+x2+x3+3*x4*x4, sense=maximize)\r\n",
        "\r\n",
        "opt = SolverFactory('ipopt', executable=solverpath_exe, validate=False)\r\n",
        "opt.solve(model)\r\n",
        "\r\n",
        "model.display()"
      ],
      "outputs": [
        {
          "output_type": "stream",
          "name": "stdout",
          "text": [
            "Model unknown\n",
            "\n",
            "  Variables:\n",
            "    x1 : Size=1, Index=None\n",
            "        Key  : Lower : Value             : Upper : Fixed : Stale : Domain\n",
            "        None :     0 : 4.000000203313086 :  None : False : False : Integers\n",
            "    x2 : Size=1, Index=None\n",
            "        Key  : Lower : Value              : Upper : Fixed : Stale : Domain\n",
            "        None :     0 : 2.9999999708357357 :  None : False : False : Integers\n",
            "    x3 : Size=1, Index=None\n",
            "        Key  : Lower : Value : Upper : Fixed : Stale : Domain\n",
            "        None :     0 :   0.0 :  None : False : False : Integers\n",
            "    x4 : Size=1, Index=None\n",
            "        Key  : Lower : Value : Upper : Fixed : Stale : Domain\n",
            "        None :     0 :   0.0 :  None : False : False : Integers\n",
            "\n",
            "  Objectives:\n",
            "    obj : Size=1, Index=None, Active=True\n",
            "        Key  : Active : Value\n",
            "        None :   True : 11.000000377461909\n",
            "\n",
            "  Constraints:\n",
            "    c1 : Size=1\n",
            "        Key  : Lower : Body               : Upper\n",
            "        None :  None : 10.000000144984558 :  10.0\n",
            "    c2 : Size=1\n",
            "        Key  : Lower : Body              : Upper\n",
            "        None :   2.0 : 4.000000203313086 :  None\n",
            "    c3 : Size=1\n",
            "        Key  : Lower : Body               : Upper\n",
            "        None :   3.0 : 2.9999999708357357 :  None\n"
          ]
        }
      ],
      "metadata": {
        "colab": {
          "base_uri": "https://localhost:8080/",
          "height": 449
        },
        "id": "2xGEHdbdnKbq",
        "outputId": "36b81510-401a-435b-aef5-30e06ab83c85"
      }
    },
    {
      "cell_type": "code",
      "execution_count": null,
      "source": [],
      "outputs": [],
      "metadata": {
        "id": "pJN06jq0nKeJ"
      }
    },
    {
      "cell_type": "code",
      "execution_count": null,
      "source": [],
      "outputs": [],
      "metadata": {
        "id": "_2FO81eknKhs"
      }
    }
  ]
}