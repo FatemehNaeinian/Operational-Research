{
  "cells": [
    {
      "cell_type": "code",
      "execution_count": 3,
      "metadata": {
        "colab": {
          "base_uri": "https://localhost:8080/"
        },
        "id": "K4KUYF5eLVZ1",
        "outputId": "c4491e06-e00d-43c9-d2c5-1e293f076b48"
      },
      "outputs": [
        {
          "name": "stdout",
          "output_type": "stream",
          "text": [
            "Defaulting to user installation because normal site-packages is not writeable\n",
            "Requirement already satisfied: pyomo in c:\\users\\padidar\\appdata\\roaming\\python\\python39\\site-packages (6.4.2)\n",
            "Requirement already satisfied: ply in c:\\users\\padidar\\appdata\\roaming\\python\\python39\\site-packages (from pyomo) (3.11)\n"
          ]
        }
      ],
      "source": [
        "!pip install pyomo"
      ]
    },
    {
      "cell_type": "code",
      "execution_count": 4,
      "metadata": {
        "colab": {
          "base_uri": "https://localhost:8080/",
          "height": 449
        },
        "id": "2xGEHdbdnKbq",
        "outputId": "36b81510-401a-435b-aef5-30e06ab83c85"
      },
      "outputs": [
        {
          "name": "stdout",
          "output_type": "stream",
          "text": [
            "Model unknown\n",
            "\n",
            "  Variables:\n",
            "    x : Size=1, Index=None\n",
            "        Key  : Lower : Value             : Upper : Fixed : Stale : Domain\n",
            "        None :     0 : 1.999999999997473 :     4 : False : False :  Reals\n",
            "    y : Size=1, Index=None\n",
            "        Key  : Lower : Value              : Upper : Fixed : Stale : Domain\n",
            "        None :     0 : 3.9999957355899873 :     4 : False : False :  Reals\n",
            "\n",
            "  Objectives:\n",
            "    obj : Size=1, Index=None, Active=True\n",
            "        Key  : Active : Value\n",
            "        None :   True : 5.743368635921652e-09\n",
            "\n",
            "  Constraints:\n",
            "    None\n"
          ]
        }
      ],
      "source": [
        "import pyomo.environ as pyo\n",
        "from pyomo.environ import *\n",
        "from pyomo.opt import SolverFactory\n",
        "import sys\n",
        "import numpy as np\n",
        "\n",
        "solverpath_folder = \"D:\\\\Ipopt\\\\bin\"\n",
        "solverpath_exe = \"D:\\\\Ipopt\\\\bin\\\\ipopt.exe\"\n",
        "\n",
        "sys.path.append(solverpath_folder)\n",
        "\n",
        "model = pyo.ConcreteModel()\n",
        "\n",
        "model.x = pyo.Var(bounds=(0,4), initialize=2.5)\n",
        "model.y = pyo.Var(bounds=(0,4), initialize=3.5)\n",
        "\n",
        "x = model.x\n",
        "y = model.y\n",
        "\n",
        "\n",
        "model.obj = pyo.Objective(expr= (2-cos(np.pi*x)-cos(np.pi*y))*x*x*y*y, sense=minimize)\n",
        "\n",
        "opt = SolverFactory('ipopt', executable=solverpath_exe, validate=False)\n",
        "opt.solve(model)\n",
        "\n",
        "model.display()"
      ]
    },
    {
      "cell_type": "code",
      "execution_count": null,
      "metadata": {
        "id": "pJN06jq0nKeJ"
      },
      "outputs": [],
      "source": []
    },
    {
      "cell_type": "code",
      "execution_count": null,
      "metadata": {
        "id": "_2FO81eknKhs"
      },
      "outputs": [],
      "source": []
    }
  ],
  "metadata": {
    "colab": {
      "provenance": []
    },
    "kernelspec": {
      "display_name": "Python 3",
      "language": "python",
      "name": "python3"
    },
    "language_info": {
      "codemirror_mode": {
        "name": "ipython",
        "version": 3
      },
      "file_extension": ".py",
      "mimetype": "text/x-python",
      "name": "python",
      "nbconvert_exporter": "python",
      "pygments_lexer": "ipython3",
      "version": "3.10.7 (tags/v3.10.7:6cc6b13, Sep  5 2022, 14:08:36) [MSC v.1933 64 bit (AMD64)]"
    },
    "vscode": {
      "interpreter": {
        "hash": "9ac1e302436848cae712d8bfe2642cbc413222efcbbba2be555d75e7778c5ab2"
      }
    }
  },
  "nbformat": 4,
  "nbformat_minor": 2
}
