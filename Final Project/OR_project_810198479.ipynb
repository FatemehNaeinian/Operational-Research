{
  "nbformat": 4,
  "nbformat_minor": 0,
  "metadata": {
    "colab": {
      "provenance": []
    },
    "kernelspec": {
      "name": "python3",
      "display_name": "Python 3"
    },
    "language_info": {
      "name": "python"
    }
  },
  "cells": [
    {
      "cell_type": "markdown",
      "source": [
        "# **Operation Research Project**\n",
        "\n",
        "Fatemeh Naeinian\n",
        "\n",
        "SID: 810198479"
      ],
      "metadata": {
        "id": "gw151Nce8fSi"
      }
    },
    {
      "cell_type": "code",
      "source": [
        "import numpy as np\n",
        "import math"
      ],
      "metadata": {
        "id": "o_t04QkyB2nt"
      },
      "execution_count": 1,
      "outputs": []
    },
    {
      "cell_type": "markdown",
      "source": [
        "# question 1"
      ],
      "metadata": {
        "id": "68B5CpkA8fqf"
      }
    },
    {
      "cell_type": "code",
      "source": [
        "possible_ans = []\n",
        "def states(x1, x2, x3, x4, const):\n",
        "  # if the cost gets 0 and if its not repeated, we add it to possible answers\n",
        "  # as we explained in report, states where cost is an odd number cannot be a solution so they will be illuminated\n",
        "  if const == 0 and [x1, x2, x3, x4] not in possible_ans :\n",
        "    possible_ans.append([x1, x2, x3, x4])\n",
        "  \n",
        "  if const >= 8 :  # find a new state where x4+1 and cost-8\n",
        "    states(x1, x2, x3, x4+1, const-8)\n",
        "  if const >= 5 :  # find a new state where x3+1 and cost-5\n",
        "    states(x1, x2, x3+1, x4, const-5)\n",
        "  if const >= 4 :  # find a new state where x2+1 and cost-4\n",
        "    states(x1, x2+1, x3, x4, const-4)\n",
        "  if const >= 2 :  # find a new state where x1+1 and cost-2\n",
        "    states(x1+1, x2, x3, x4, const-2)"
      ],
      "metadata": {
        "id": "kSvArkzgB5FW"
      },
      "execution_count": 18,
      "outputs": []
    },
    {
      "cell_type": "code",
      "source": [
        "def factor(ans):  # this function helps us to calculate factorial for each element of a solution\n",
        "  fact = 1\n",
        "  for x in ans:\n",
        "    fact = fact * math.factorial(x)\n",
        "  return fact"
      ],
      "metadata": {
        "id": "XaeBEn9ECr9G"
      },
      "execution_count": 19,
      "outputs": []
    },
    {
      "cell_type": "code",
      "execution_count": 20,
      "metadata": {
        "colab": {
          "base_uri": "https://localhost:8080/"
        },
        "id": "hvUPCerm7nfC",
        "outputId": "d90b0c94-4689-4a0e-966c-a0406c508dc9"
      },
      "outputs": [
        {
          "output_type": "stream",
          "name": "stdout",
          "text": [
            "11.0\n"
          ]
        }
      ],
      "source": [
        "states(0, 0, 0, 0, 10) # at first all possible solutions are found\n",
        "sigma = 0\n",
        "for ans in possible_ans:\n",
        "  sigma += math.factorial(sum(ans)) / factor(ans)  # in this loop we find the goal\n",
        "\n",
        "sigma"
      ]
    },
    {
      "cell_type": "markdown",
      "source": [
        "# question 2"
      ],
      "metadata": {
        "id": "PAZm45Re8i7e"
      }
    },
    {
      "cell_type": "code",
      "source": [
        " # C is the current position which at first will be initialiezed with A position, and B is the goal position\n",
        "def possible_route(xC=6, yC=6, xB=1, yB=1): \n",
        "  if xC==xB or yC==yB : # goal state and all possible states to it with x=1 or y=1 has only one route \n",
        "    return 1\n",
        "  elif (xC==3 and yC==2) or (xC==3 and yC==4) or (xC==5 and yC==4) : # Barrier\n",
        "    return 0\n",
        "  else:\n",
        "    return possible_route(xC-1, yC) + possible_route(xC, yC-1) + possible_route(xC-1, yC-1) # each state depend on 3 other state"
      ],
      "metadata": {
        "id": "SJrPpYf-8kse"
      },
      "execution_count": 21,
      "outputs": []
    },
    {
      "cell_type": "code",
      "source": [
        "possible_route()"
      ],
      "metadata": {
        "colab": {
          "base_uri": "https://localhost:8080/"
        },
        "id": "lN-A77BTN1-Q",
        "outputId": "23cc5bca-6cd3-40fe-e4ab-21aff8e60fa4"
      },
      "execution_count": 22,
      "outputs": [
        {
          "output_type": "stream",
          "name": "stdout",
          "text": [
            "318\n"
          ]
        }
      ]
    },
    {
      "cell_type": "markdown",
      "source": [
        "# question 3"
      ],
      "metadata": {
        "id": "ZDGuCmsF8lkr"
      }
    },
    {
      "cell_type": "code",
      "source": [
        "s1 = \"index\"\n",
        "s2 = \"inside\""
      ],
      "metadata": {
        "id": "oK36nqRyj5eH"
      },
      "execution_count": 30,
      "outputs": []
    },
    {
      "cell_type": "markdown",
      "source": [
        "part1"
      ],
      "metadata": {
        "id": "JLRXv9mYj66e"
      }
    },
    {
      "cell_type": "code",
      "source": [
        "def find_min_cost(s1_pos, s2_pos): \n",
        "  # when one of them reach the first of string, so max(s1_pos,s2_pos)  is the number of letters we need to insert\n",
        "  if s1_pos == 0 or s2_pos == 0 :\n",
        "    return max(s1_pos, s2_pos) \n",
        "  # when the next letter is similar and need no change\n",
        "  elif s1[s1_pos-1] == s2[s2_pos-1] :\n",
        "    return find_min_cost(s1_pos-1, s2_pos-1) \n",
        "  # when is not the end and next letters are not similar, we need to check (i-1,j-i) , (i-1,j) , (i,j-1) \n",
        "  # in case we find two similar letter and if not, we need to delete, insert or replace\n",
        "  else: \n",
        "    return min(find_min_cost(s1_pos-1, s2_pos-1)+2, find_min_cost(s1_pos-1, s2_pos)+1, find_min_cost(s1_pos, s2_pos-1)+1)  \n",
        "  \n",
        "find_min_cost(len(s1), len(s2))"
      ],
      "metadata": {
        "colab": {
          "base_uri": "https://localhost:8080/"
        },
        "id": "tR6zfMs4im7g",
        "outputId": "58cfc7fc-35f0-4151-ba19-37010fdd3b2c"
      },
      "execution_count": 31,
      "outputs": [
        {
          "output_type": "execute_result",
          "data": {
            "text/plain": [
              "3"
            ]
          },
          "metadata": {},
          "execution_count": 31
        }
      ]
    },
    {
      "cell_type": "markdown",
      "source": [
        "part 2"
      ],
      "metadata": {
        "id": "ZaeZN5Bzj-oj"
      }
    },
    {
      "cell_type": "code",
      "source": [
        "def similar_letters(s1_pos, s2_pos): \n",
        "  # when one of them reach the end of string and find no similar letter\n",
        "  if s1_pos == 0 or s2_pos == 0 :\n",
        "    return 0\n",
        "  # when the next letter is similar so number of similar letters add by 1\n",
        "  elif s1[s1_pos-1] == s2[s2_pos-1] :\n",
        "    return similar_letters(s1_pos-1, s2_pos-1)+1\n",
        "  # we need to move on and check the next letters, (i-1,j-1), (i-1,j), (j-1,i) , so we will check the whole string\n",
        "  else:\n",
        "    return max(similar_letters(s1_pos-1, s2_pos-1), similar_letters(s1_pos-1, s2_pos), similar_letters(s1_pos, s2_pos-1))\n",
        "\n",
        "similar_letters(len(s1), len(s2))"
      ],
      "metadata": {
        "colab": {
          "base_uri": "https://localhost:8080/"
        },
        "id": "JstjBcKIhOnW",
        "outputId": "40a0198f-7170-4056-fd0a-4ba1b2c23ad4"
      },
      "execution_count": 33,
      "outputs": [
        {
          "output_type": "execute_result",
          "data": {
            "text/plain": [
              "4"
            ]
          },
          "metadata": {},
          "execution_count": 33
        }
      ]
    },
    {
      "cell_type": "code",
      "source": [],
      "metadata": {
        "id": "FbGAE-DK_Kr2"
      },
      "execution_count": null,
      "outputs": []
    }
  ]
}