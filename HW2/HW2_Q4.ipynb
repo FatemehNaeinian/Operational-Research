{
  "nbformat": 4,
  "nbformat_minor": 0,
  "metadata": {
    "colab": {
      "provenance": []
    },
    "kernelspec": {
      "name": "python3",
      "display_name": "Python 3"
    },
    "language_info": {
      "name": "python"
    }
  },
  "cells": [
    {
      "cell_type": "code",
      "execution_count": 2,
      "metadata": {
        "colab": {
          "base_uri": "https://localhost:8080/"
        },
        "id": "75LW1FWjGxp7",
        "outputId": "6940295a-27e1-47ff-bb10-868a769eaa79"
      },
      "outputs": [
        {
          "output_type": "stream",
          "name": "stdout",
          "text": [
            "Looking in indexes: https://pypi.org/simple, https://us-python.pkg.dev/colab-wheels/public/simple/\n",
            "Collecting pyomo\n",
            "  Downloading Pyomo-6.4.2-cp37-cp37m-manylinux_2_12_x86_64.manylinux2010_x86_64.whl (9.7 MB)\n",
            "\u001b[K     |████████████████████████████████| 9.7 MB 14.0 MB/s \n",
            "\u001b[?25hCollecting ply\n",
            "  Downloading ply-3.11-py2.py3-none-any.whl (49 kB)\n",
            "\u001b[K     |████████████████████████████████| 49 kB 7.0 MB/s \n",
            "\u001b[?25hInstalling collected packages: ply, pyomo\n",
            "Successfully installed ply-3.11 pyomo-6.4.2\n",
            "Selecting previously unselected package libsuitesparseconfig5:amd64.\n",
            "(Reading database ... 123991 files and directories currently installed.)\n",
            "Preparing to unpack .../libsuitesparseconfig5_1%3a5.1.2-2_amd64.deb ...\n",
            "Unpacking libsuitesparseconfig5:amd64 (1:5.1.2-2) ...\n",
            "Selecting previously unselected package libamd2:amd64.\n",
            "Preparing to unpack .../libamd2_1%3a5.1.2-2_amd64.deb ...\n",
            "Unpacking libamd2:amd64 (1:5.1.2-2) ...\n",
            "Selecting previously unselected package libcolamd2:amd64.\n",
            "Preparing to unpack .../libcolamd2_1%3a5.1.2-2_amd64.deb ...\n",
            "Unpacking libcolamd2:amd64 (1:5.1.2-2) ...\n",
            "Selecting previously unselected package libglpk40:amd64.\n",
            "Preparing to unpack .../libglpk40_4.65-1_amd64.deb ...\n",
            "Unpacking libglpk40:amd64 (4.65-1) ...\n",
            "Selecting previously unselected package glpk-utils.\n",
            "Preparing to unpack .../glpk-utils_4.65-1_amd64.deb ...\n",
            "Unpacking glpk-utils (4.65-1) ...\n",
            "Setting up libsuitesparseconfig5:amd64 (1:5.1.2-2) ...\n",
            "Setting up libcolamd2:amd64 (1:5.1.2-2) ...\n",
            "Setting up libamd2:amd64 (1:5.1.2-2) ...\n",
            "Setting up libglpk40:amd64 (4.65-1) ...\n",
            "Setting up glpk-utils (4.65-1) ...\n",
            "Processing triggers for libc-bin (2.27-3ubuntu1.6) ...\n",
            "Processing triggers for man-db (2.8.3-2ubuntu0.1) ...\n"
          ]
        }
      ],
      "source": [
        "!pip install pyomo\n",
        "!apt-get install -y -qq glpk-utils\n",
        "!wget -N -q \"https://ampl.com/dl/open/ipopt/ipopt-win64.zip\"\n",
        "!unzip -o -q ipopt-win64"
      ]
    },
    {
      "cell_type": "code",
      "source": [],
      "metadata": {
        "id": "RKsr4nL-HTFq"
      },
      "execution_count": 2,
      "outputs": []
    },
    {
      "cell_type": "code",
      "source": [
        "import numpy as np\n",
        "import pyomo.environ as pyo\n",
        "from pyomo.environ import *\n",
        "from pyomo.opt import SolverFactory\n",
        "\n",
        "n_list = []\n",
        "\n",
        "n = int(input(f\"Enter number of data: \"))\n",
        "\n",
        "for i in range(n):\n",
        "  n_list.append([int(x) for x in input().split()])\n",
        "\n",
        "model = pyo.ConcreteModel()\n",
        "\n",
        "model.x = pyo.Var(within=pyo.Integers, bounds=(0,np.inf))\n",
        "model.y = pyo.Var(within=pyo.Integers, bounds=(0,np.inf))\n",
        "\n",
        "x = model.x\n",
        "y = model.y\n",
        "\n",
        "model.xbound = pyo.Var(range(n), within=pyo.Integers, bounds=(0,np.inf))\n",
        "model.ybound = pyo.Var(range(n), within=pyo.Integers, bounds=(0,np.inf))\n",
        "\n",
        "xbound = model.xbound\n",
        "ybound = model.ybound\n",
        "\n",
        "model.c = pyo.ConstraintList()\n",
        "\n",
        "for i in range(n):\n",
        "  model.c.add(expr= xbound[i]+n_list[i][0]>=x )\n",
        "  model.c.add(expr= ybound[i]+n_list[i][1]>=y )\n",
        "  model.c.add(expr= xbound[i]-n_list[i][0]>=-x )\n",
        "  model.c.add(expr= ybound[i]-n_list[i][1]>=-y )  \n",
        "\n",
        "model.obj = pyo.Objective(expr=pyo.summation(xbound)+pyo.summation(ybound), sense=minimize)\n",
        "opt = SolverFactory('glpk')\n",
        "opt.solve(model)\n",
        "\n",
        "x_value = pyo.value(x)\n",
        "y_value = pyo.value(y)\n",
        "J_value = pyo.value(model.obj)\n",
        "\n",
        "print('x = ',x_value)\n",
        "print('y = ',y_value)\n",
        "print(\"Jmin =\",J_value)"
      ],
      "metadata": {
        "colab": {
          "base_uri": "https://localhost:8080/"
        },
        "id": "PZQ8paKBHTPQ",
        "outputId": "b6f83f9f-43af-4a9b-cdee-3fbb15bbc8ac"
      },
      "execution_count": 9,
      "outputs": [
        {
          "output_type": "stream",
          "name": "stdout",
          "text": [
            "Enter number of data: 5\n",
            "1 1\n",
            "1 0\n",
            "45 60\n",
            "99 2\n",
            "0 8\n",
            "1.0 2.0\n",
            "min = 210.0\n"
          ]
        }
      ]
    },
    {
      "cell_type": "code",
      "source": [],
      "metadata": {
        "id": "bah4agKTIp7B"
      },
      "execution_count": 11,
      "outputs": []
    },
    {
      "cell_type": "code",
      "source": [],
      "metadata": {
        "id": "t0m2nPCqIp3f"
      },
      "execution_count": null,
      "outputs": []
    },
    {
      "cell_type": "code",
      "source": [],
      "metadata": {
        "id": "p3Db4m_kIp1B"
      },
      "execution_count": null,
      "outputs": []
    }
  ]
}