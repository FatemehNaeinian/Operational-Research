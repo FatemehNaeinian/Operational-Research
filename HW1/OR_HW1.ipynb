{
  "nbformat": 4,
  "nbformat_minor": 0,
  "metadata": {
    "colab": {
      "provenance": [],
      "collapsed_sections": []
    },
    "kernelspec": {
      "name": "python3",
      "display_name": "Python 3"
    },
    "language_info": {
      "name": "python"
    }
  },
  "cells": [
    {
      "cell_type": "code",
      "execution_count": 1,
      "metadata": {
        "colab": {
          "base_uri": "https://localhost:8080/"
        },
        "id": "7uw-koG9ojWM",
        "outputId": "6fb42f9e-b729-4c22-e815-d80df6d7ac0d"
      },
      "outputs": [
        {
          "output_type": "stream",
          "name": "stdout",
          "text": [
            "Looking in indexes: https://pypi.org/simple, https://us-python.pkg.dev/colab-wheels/public/simple/\n",
            "Collecting pyomo\n",
            "  Downloading Pyomo-6.4.2-cp37-cp37m-manylinux_2_12_x86_64.manylinux2010_x86_64.whl (9.7 MB)\n",
            "\u001b[K     |████████████████████████████████| 9.7 MB 3.8 MB/s \n",
            "\u001b[?25hCollecting ply\n",
            "  Downloading ply-3.11-py2.py3-none-any.whl (49 kB)\n",
            "\u001b[K     |████████████████████████████████| 49 kB 3.6 MB/s \n",
            "\u001b[?25hInstalling collected packages: ply, pyomo\n",
            "Successfully installed ply-3.11 pyomo-6.4.2\n"
          ]
        }
      ],
      "source": [
        "!pip install pyomo"
      ]
    },
    {
      "cell_type": "code",
      "source": [
        "!apt-get install -y -qq glpk-utils"
      ],
      "metadata": {
        "colab": {
          "base_uri": "https://localhost:8080/"
        },
        "id": "mrqIlYQfo0ox",
        "outputId": "287e5dbf-9c54-4ad8-c580-29bc64bff193"
      },
      "execution_count": 2,
      "outputs": [
        {
          "output_type": "stream",
          "name": "stdout",
          "text": [
            "Selecting previously unselected package libsuitesparseconfig5:amd64.\n",
            "(Reading database ... 123942 files and directories currently installed.)\n",
            "Preparing to unpack .../libsuitesparseconfig5_1%3a5.1.2-2_amd64.deb ...\n",
            "Unpacking libsuitesparseconfig5:amd64 (1:5.1.2-2) ...\n",
            "Selecting previously unselected package libamd2:amd64.\n",
            "Preparing to unpack .../libamd2_1%3a5.1.2-2_amd64.deb ...\n",
            "Unpacking libamd2:amd64 (1:5.1.2-2) ...\n",
            "Selecting previously unselected package libcolamd2:amd64.\n",
            "Preparing to unpack .../libcolamd2_1%3a5.1.2-2_amd64.deb ...\n",
            "Unpacking libcolamd2:amd64 (1:5.1.2-2) ...\n",
            "Selecting previously unselected package libglpk40:amd64.\n",
            "Preparing to unpack .../libglpk40_4.65-1_amd64.deb ...\n",
            "Unpacking libglpk40:amd64 (4.65-1) ...\n",
            "Selecting previously unselected package glpk-utils.\n",
            "Preparing to unpack .../glpk-utils_4.65-1_amd64.deb ...\n",
            "Unpacking glpk-utils (4.65-1) ...\n",
            "Setting up libsuitesparseconfig5:amd64 (1:5.1.2-2) ...\n",
            "Setting up libcolamd2:amd64 (1:5.1.2-2) ...\n",
            "Setting up libamd2:amd64 (1:5.1.2-2) ...\n",
            "Setting up libglpk40:amd64 (4.65-1) ...\n",
            "Setting up glpk-utils (4.65-1) ...\n",
            "Processing triggers for libc-bin (2.27-3ubuntu1.6) ...\n",
            "Processing triggers for man-db (2.8.3-2ubuntu0.1) ...\n"
          ]
        }
      ]
    },
    {
      "cell_type": "code",
      "source": [
        "!wget -N -q \"https://ampl.com/dl/open/ipopt/ipopt-win64.zip\"\n",
        "!unzip -o -q ipopt-win64"
      ],
      "metadata": {
        "id": "FvFjz0_7pMXS"
      },
      "execution_count": 3,
      "outputs": []
    },
    {
      "cell_type": "code",
      "source": [
        "import pyomo.environ as pyo\n",
        "from pyomo.environ import *\n",
        "from pyomo.opt import SolverFactory\n",
        "\n",
        "model = pyo.ConcreteModel()\n",
        "\n",
        "model.xa = pyo.Var(bounds=(0,1))\n",
        "model.xb = pyo.Var(bounds=(0,1))\n",
        "\n",
        "xa = model.xa\n",
        "xb = model.xb\n",
        "\n",
        "model.c1 = pyo.Constraint(expr= 5000*xa+4000*xb==6000)\n",
        "model.c2 = pyo.Constraint(expr= 400*xa+500*xb<=600)\n",
        "\n",
        "model.obj = pyo.Objective(expr= 4500*xa+4500*xb, sense=maximize)\n",
        "\n",
        "opt = SolverFactory('glpk')\n",
        "opt.solve(model)\n",
        "\n",
        "model.pprint()\n",
        "\n",
        "xaval = pyo.value(xa)\n",
        "xbval = pyo.value(xb)\n",
        "\n",
        "print('xa = ',xaval)\n",
        "print('xb = ',xbval)\n",
        "\n",
        "print('maximize J = ',4500*xaval+4500*xbval)"
      ],
      "metadata": {
        "colab": {
          "base_uri": "https://localhost:8080/"
        },
        "id": "KqZU4BL4poDp",
        "outputId": "78329259-107f-4312-edc4-1bb8c4ad524e"
      },
      "execution_count": 15,
      "outputs": [
        {
          "output_type": "stream",
          "name": "stdout",
          "text": [
            "2 Var Declarations\n",
            "    xa : Size=1, Index=None\n",
            "        Key  : Lower : Value             : Upper : Fixed : Stale : Domain\n",
            "        None :     0 : 0.666666666666666 :     1 : False : False :  Reals\n",
            "    xb : Size=1, Index=None\n",
            "        Key  : Lower : Value             : Upper : Fixed : Stale : Domain\n",
            "        None :     0 : 0.666666666666667 :     1 : False : False :  Reals\n",
            "\n",
            "1 Objective Declarations\n",
            "    obj : Size=1, Index=None, Active=True\n",
            "        Key  : Active : Sense    : Expression\n",
            "        None :   True : maximize : 4500*xa + 4500*xb\n",
            "\n",
            "2 Constraint Declarations\n",
            "    c1 : Size=1, Index=None, Active=True\n",
            "        Key  : Lower  : Body              : Upper  : Active\n",
            "        None : 6000.0 : 5000*xa + 4000*xb : 6000.0 :   True\n",
            "    c2 : Size=1, Index=None, Active=True\n",
            "        Key  : Lower : Body            : Upper : Active\n",
            "        None :  -Inf : 400*xa + 500*xb : 600.0 :   True\n",
            "\n",
            "5 Declarations: xa xb c1 c2 obj\n",
            "xa =  0.666666666666666\n",
            "xb =  0.666666666666667\n",
            "maximize J =  5999.999999999998\n"
          ]
        }
      ]
    },
    {
      "cell_type": "code",
      "source": [
        "import pyomo.environ as pyo\n",
        "from pyomo.environ import *\n",
        "from pyomo.opt import SolverFactory\n",
        "\n",
        "model = pyo.ConcreteModel()\n",
        "\n",
        "model.x = pyo.Var()\n",
        "model.y = pyo.Var()\n",
        "\n",
        "x = model.x\n",
        "y = model.y\n",
        "\n",
        "model.c1 = pyo.Constraint(expr= 8-x-0.5*y>=0)\n",
        "model.c2 = pyo.Constraint(expr= 7+x-1.5*y>=0)\n",
        "model.c3 = pyo.Constraint(expr= 1+x>=0)\n",
        "model.c4 = pyo.Constraint(expr= 8-x-0.5*y+7+x-1.5*y>=1+x)\n",
        "model.c5 = pyo.Constraint(expr= 8-x-0.5*y+1+x>=7+x-1.5*y)\n",
        "model.c6 = pyo.Constraint(expr= 7+x-1.5*y+1+x>=8-x-0.5*y)\n",
        "\n",
        "model.obj = pyo.Objective(expr= 16+x-2*y, sense=maximize)\n",
        "\n",
        "opt = SolverFactory('glpk')\n",
        "opt.solve(model)\n",
        "\n",
        "model.pprint()\n",
        "\n",
        "xval = pyo.value(x)\n",
        "yval = pyo.value(y)\n",
        "print('x = ',xval)\n",
        "print('y = ',yval)\n",
        "print('Triangle Districts = {} , {} , {}'.format(8-xval-0.5*yval , 7+xval-1.5*yval , 1+xval ))\n",
        "print('maximize J = ',16+xval-2*yval)\n"
      ],
      "metadata": {
        "colab": {
          "base_uri": "https://localhost:8080/"
        },
        "id": "qg3ezCDfrZJl",
        "outputId": "3974aa61-4c8f-4cd7-8a90-f7f0da3c726a"
      },
      "execution_count": 20,
      "outputs": [
        {
          "output_type": "stream",
          "name": "stdout",
          "text": [
            "2 Var Declarations\n",
            "    x : Size=1, Index=None\n",
            "        Key  : Lower : Value : Upper : Fixed : Stale : Domain\n",
            "        None :  None :  -1.0 :  None : False : False :  Reals\n",
            "    y : Size=1, Index=None\n",
            "        Key  : Lower : Value : Upper : Fixed : Stale : Domain\n",
            "        None :  None :  -3.0 :  None : False : False :  Reals\n",
            "\n",
            "1 Objective Declarations\n",
            "    obj : Size=1, Index=None, Active=True\n",
            "        Key  : Active : Sense    : Expression\n",
            "        None :   True : maximize : 16 + x - 2*y\n",
            "\n",
            "6 Constraint Declarations\n",
            "    c1 : Size=1, Index=None, Active=True\n",
            "        Key  : Lower : Body          : Upper : Active\n",
            "        None :   0.0 : 8 - x - 0.5*y :  +Inf :   True\n",
            "    c2 : Size=1, Index=None, Active=True\n",
            "        Key  : Lower : Body          : Upper : Active\n",
            "        None :   0.0 : 7 + x - 1.5*y :  +Inf :   True\n",
            "    c3 : Size=1, Index=None, Active=True\n",
            "        Key  : Lower : Body  : Upper : Active\n",
            "        None :   0.0 : 1 + x :  +Inf :   True\n",
            "    c4 : Size=1, Index=None, Active=True\n",
            "        Key  : Lower : Body                                    : Upper : Active\n",
            "        None :  -Inf : 1 + x - (8 - x - 0.5*y + 7 + x - 1.5*y) :   0.0 :   True\n",
            "    c5 : Size=1, Index=None, Active=True\n",
            "        Key  : Lower : Body                                    : Upper : Active\n",
            "        None :  -Inf : 7 + x - 1.5*y - (8 - x - 0.5*y + 1 + x) :   0.0 :   True\n",
            "    c6 : Size=1, Index=None, Active=True\n",
            "        Key  : Lower : Body                                    : Upper : Active\n",
            "        None :  -Inf : 8 - x - 0.5*y - (7 + x - 1.5*y + 1 + x) :   0.0 :   True\n",
            "\n",
            "9 Declarations: x y c1 c2 c3 c4 c5 c6 obj\n",
            "x =  -1.0\n",
            "y =  -3.0\n",
            "Triangle Districts = 10.5 , 10.5 , 0.0\n",
            "maximize J =  21.0\n"
          ]
        }
      ]
    },
    {
      "cell_type": "code",
      "source": [
        "model.obj = pyo.Objective(expr= 16+x-2*y, sense=minimize)\n",
        "\n",
        "opt = SolverFactory('glpk')\n",
        "opt.solve(model)\n",
        "\n",
        "model.pprint()\n",
        "\n",
        "\n",
        "xval = pyo.value(x)\n",
        "yval = pyo.value(y)\n",
        "\n",
        "print('x = ',xval)\n",
        "print('y = ',yval)\n",
        "\n",
        "print('Triangle Districts = {} , {} , {}'.format(8-xval-0.5*yval , 7+xval-1.5*yval , 1+xval ))\n",
        "\n",
        "\n",
        "print('minimize J = ',16+xval-2*yval)"
      ],
      "metadata": {
        "colab": {
          "base_uri": "https://localhost:8080/"
        },
        "id": "kPMr92SPsuq2",
        "outputId": "977244c2-e06c-4158-8e68-a3f8ed58f08a"
      },
      "execution_count": 21,
      "outputs": [
        {
          "output_type": "stream",
          "name": "stderr",
          "text": [
            "WARNING:pyomo.core:Implicitly replacing the Component attribute obj (type=<class 'pyomo.core.base.objective.ScalarObjective'>) on block unknown with a new Component (type=<class 'pyomo.core.base.objective.ScalarObjective'>).\n",
            "This is usually indicative of a modelling error.\n",
            "To avoid this warning, use block.del_component() and block.add_component().\n"
          ]
        },
        {
          "output_type": "stream",
          "name": "stdout",
          "text": [
            "2 Var Declarations\n",
            "    x : Size=1, Index=None\n",
            "        Key  : Lower : Value : Upper : Fixed : Stale : Domain\n",
            "        None :  None :   2.0 :  None : False : False :  Reals\n",
            "    y : Size=1, Index=None\n",
            "        Key  : Lower : Value : Upper : Fixed : Stale : Domain\n",
            "        None :  None :   6.0 :  None : False : False :  Reals\n",
            "\n",
            "1 Objective Declarations\n",
            "    obj : Size=1, Index=None, Active=True\n",
            "        Key  : Active : Sense    : Expression\n",
            "        None :   True : minimize : 16 + x - 2*y\n",
            "\n",
            "6 Constraint Declarations\n",
            "    c1 : Size=1, Index=None, Active=True\n",
            "        Key  : Lower : Body          : Upper : Active\n",
            "        None :   0.0 : 8 - x - 0.5*y :  +Inf :   True\n",
            "    c2 : Size=1, Index=None, Active=True\n",
            "        Key  : Lower : Body          : Upper : Active\n",
            "        None :   0.0 : 7 + x - 1.5*y :  +Inf :   True\n",
            "    c3 : Size=1, Index=None, Active=True\n",
            "        Key  : Lower : Body  : Upper : Active\n",
            "        None :   0.0 : 1 + x :  +Inf :   True\n",
            "    c4 : Size=1, Index=None, Active=True\n",
            "        Key  : Lower : Body                                    : Upper : Active\n",
            "        None :  -Inf : 1 + x - (8 - x - 0.5*y + 7 + x - 1.5*y) :   0.0 :   True\n",
            "    c5 : Size=1, Index=None, Active=True\n",
            "        Key  : Lower : Body                                    : Upper : Active\n",
            "        None :  -Inf : 7 + x - 1.5*y - (8 - x - 0.5*y + 1 + x) :   0.0 :   True\n",
            "    c6 : Size=1, Index=None, Active=True\n",
            "        Key  : Lower : Body                                    : Upper : Active\n",
            "        None :  -Inf : 8 - x - 0.5*y - (7 + x - 1.5*y + 1 + x) :   0.0 :   True\n",
            "\n",
            "9 Declarations: x y c1 c2 c3 c4 c5 c6 obj\n",
            "x =  2.0\n",
            "y =  6.0\n",
            "Triangle Districts = 3.0 , 0.0 , 3.0\n",
            "minimize J =  6.0\n"
          ]
        }
      ]
    },
    {
      "cell_type": "code",
      "source": [],
      "metadata": {
        "id": "VIB76u8ntGQz"
      },
      "execution_count": 17,
      "outputs": []
    }
  ]
}