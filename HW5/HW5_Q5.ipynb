{
  "cells": [
    {
      "cell_type": "code",
      "execution_count": 3,
      "source": [
        "!pip install pyomo"
      ],
      "outputs": [
        {
          "output_type": "stream",
          "name": "stdout",
          "text": [
            "Defaulting to user installation because normal site-packages is not writeable\n",
            "Requirement already satisfied: pyomo in c:\\users\\padidar\\appdata\\roaming\\python\\python39\\site-packages (6.4.2)\n",
            "Requirement already satisfied: ply in c:\\users\\padidar\\appdata\\roaming\\python\\python39\\site-packages (from pyomo) (3.11)\n"
          ]
        }
      ],
      "metadata": {
        "id": "K4KUYF5eLVZ1"
      }
    },
    {
      "cell_type": "code",
      "execution_count": 4,
      "source": [
        "import pyomo.environ as pyo\r\n",
        "from pyomo.environ import *\r\n",
        "from pyomo.opt import SolverFactory\r\n",
        "import sys\r\n",
        "import numpy as np\r\n",
        "\r\n",
        "solverpath_folder = \"D:\\\\Ipopt\\\\bin\"\r\n",
        "solverpath_exe = \"D:\\\\Ipopt\\\\bin\\\\ipopt.exe\"\r\n",
        "\r\n",
        "sys.path.append(solverpath_folder)\r\n",
        "\r\n",
        "model = pyo.ConcreteModel()\r\n",
        "\r\n",
        "model.x1 = pyo.Var(bounds=(0,np.inf))\r\n",
        "model.x2 = pyo.Var(bounds=(0,np.inf))\r\n",
        "\r\n",
        "x1 = model.x1\r\n",
        "x2 = model.x2\r\n",
        "\r\n",
        "model.c = pyo.Constraint(expr= 2*x1+x2<=3)\r\n",
        "\r\n",
        "model.obj = pyo.Objective(expr= log(x1+1)+x2, sense=maximize)\r\n",
        "\r\n",
        "opt = SolverFactory('ipopt', executable=solverpath_exe, validate=False)\r\n",
        "opt.solve(model)\r\n",
        "\r\n",
        "model.display()"
      ],
      "outputs": [
        {
          "output_type": "stream",
          "name": "stdout",
          "text": [
            "Model unknown\n",
            "\n",
            "  Variables:\n",
            "    x1 : Size=1, Index=None\n",
            "        Key  : Lower : Value : Upper : Fixed : Stale : Domain\n",
            "        None :     0 :   0.0 :  None : False : False :  Reals\n",
            "    x2 : Size=1, Index=None\n",
            "        Key  : Lower : Value            : Upper : Fixed : Stale : Domain\n",
            "        None :     0 : 3.00000004244768 :  None : False : False :  Reals\n",
            "\n",
            "  Objectives:\n",
            "    obj : Size=1, Index=None, Active=True\n",
            "        Key  : Active : Value\n",
            "        None :   True : 3.00000004244768\n",
            "\n",
            "  Constraints:\n",
            "    c : Size=1\n",
            "        Key  : Lower : Body             : Upper\n",
            "        None :  None : 3.00000004244768 :   3.0\n"
          ]
        }
      ],
      "metadata": {
        "id": "2xGEHdbdnKbq"
      }
    },
    {
      "cell_type": "code",
      "execution_count": null,
      "source": [],
      "outputs": [],
      "metadata": {
        "id": "pJN06jq0nKeJ"
      }
    },
    {
      "cell_type": "code",
      "execution_count": null,
      "source": [],
      "outputs": [],
      "metadata": {
        "id": "_2FO81eknKhs"
      }
    }
  ],
  "metadata": {
    "colab": {
      "provenance": []
    },
    "kernelspec": {
      "name": "python3",
      "display_name": "Python 3.9.7 64-bit"
    },
    "language_info": {
      "codemirror_mode": {
        "name": "ipython",
        "version": 3
      },
      "file_extension": ".py",
      "mimetype": "text/x-python",
      "name": "python",
      "nbconvert_exporter": "python",
      "pygments_lexer": "ipython3",
      "version": "3.9.7"
    },
    "vscode": {
      "interpreter": {
        "hash": "9ac1e302436848cae712d8bfe2642cbc413222efcbbba2be555d75e7778c5ab2"
      }
    },
    "interpreter": {
      "hash": "ac59ebe37160ed0dfa835113d9b8498d9f09ceb179beaac4002f036b9467c963"
    }
  },
  "nbformat": 4,
  "nbformat_minor": 2
}